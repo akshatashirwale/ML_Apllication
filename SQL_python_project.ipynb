{
  "nbformat": 4,
  "nbformat_minor": 0,
  "metadata": {
    "colab": {
      "provenance": []
    },
    "kernelspec": {
      "name": "python3",
      "display_name": "Python 3"
    },
    "language_info": {
      "name": "python"
    }
  },
  "cells": [
    {
      "cell_type": "code",
      "execution_count": null,
      "metadata": {
        "id": "yqpKBrz9XSsR"
      },
      "outputs": [],
      "source": [
        "# First install PyMySQL\n",
        "!pip install pymysql\n"
      ]
    },
    {
      "cell_type": "code",
      "source": [],
      "metadata": {
        "id": "fJoOav1aXaXE"
      },
      "execution_count": null,
      "outputs": []
    },
    {
      "cell_type": "code",
      "source": [
        "\n",
        "import pymysql\n",
        "import pandas as pd\n",
        "\n",
        "try:\n",
        "    # Establish connection\n",
        "    conn = pymysql.connect(\n",
        "        host='localhost',\n",
        "        user='root',         # Your MySQL username\n",
        "        password='',         # Your MySQL password\n",
        "        database='',   # make sure the database in loaded in your(MySQL)\n",
        "        port=3306\n",
        "    )\n",
        "\n",
        "    # Load data into DataFrame\n",
        "    query = \"SELECT * FROM table_name\"  # Replace with your table\n",
        "    df = pd.read_sql(query, conn)\n",
        "\n",
        "    # Display results\n",
        "    print(\"Connection successful! Here's your data:\")\n",
        "    display(df.head())\n",
        "\n",
        "except pymysql.Error as e:\n",
        "    print(f\"MySQL Error: {e}\")\n",
        "\n",
        "finally:\n",
        "    if 'conn' in locals():\n",
        "        conn.close()\n",
        "        print(\"Connection closed\")"
      ],
      "metadata": {
        "id": "eIwHOa25Xaex"
      },
      "execution_count": null,
      "outputs": []
    },
    {
      "cell_type": "code",
      "source": [],
      "metadata": {
        "id": "qjHM2xaZXavv"
      },
      "execution_count": null,
      "outputs": []
    },
    {
      "cell_type": "code",
      "source": [],
      "metadata": {
        "id": "gS41wEXMXnG8"
      },
      "execution_count": null,
      "outputs": []
    },
    {
      "cell_type": "code",
      "source": [
        "import pandas as pd\n",
        "import seaborn as sns\n",
        "import matplotlib.pyplot as plt\n",
        "from sklearn.model_selection import train_test_split\n",
        "from sklearn.preprocessing import LabelEncoder\n",
        "from sklearn.ensemble import RandomForestClassifier\n",
        "from sklearn.metrics import accuracy_score, classification_report, confusion_matrix\n",
        "import pickle\n",
        "\n",
        "# Load the dataset\n",
        " # Make sure this file exists in the same directory\n",
        "\n",
        "# Drop irrelevant columns\n",
        "df = df.drop(columns=[\"MyUnknownColumn\", \"Patient_ID\"])\n",
        "\n",
        "# ----- EDA (Exploratory Data Analysis) -----\n",
        "\n",
        "# Plot tumor type distribution\n",
        "plt.figure(figsize=(6, 4))\n",
        "sns.countplot(data=df, x=\"Tumor_Type\", palette=\"coolwarm\")\n",
        "plt.title(\"Tumor Type Distribution\")\n",
        "plt.xlabel(\"Tumor Type\")\n",
        "plt.ylabel(\"Count\")\n",
        "plt.xticks(rotation=45)\n",
        "plt.tight_layout()\n",
        "plt.show()\n",
        "\n",
        "# Plot distribution of age\n",
        "plt.figure(figsize=(6, 4))\n",
        "sns.histplot(df[\"Age\"], bins=20, kde=True, color=\"teal\")\n",
        "plt.title(\"Age Distribution\")\n",
        "plt.xlabel(\"Age\")\n",
        "plt.tight_layout()\n",
        "plt.show()\n",
        "\n",
        "# Tumor Size vs Survival Rate\n",
        "plt.figure(figsize=(6, 4))\n",
        "sns.scatterplot(data=df, x=\"Tumor_Size\", y=\"Survival_Rate\", hue=\"Tumor_Type\", palette=\"Set2\")\n",
        "plt.title(\"Tumor Size vs Survival Rate\")\n",
        "plt.tight_layout()\n",
        "plt.show()\n",
        "\n",
        "# Correlation heatmap\n",
        "plt.figure(figsize=(10, 8))\n",
        "corr = df.select_dtypes(include=['number']).corr()\n",
        "sns.heatmap(corr, annot=True, cmap=\"coolwarm\", fmt=\".2f\")\n",
        "plt.title(\"Feature Correlation Heatmap\")\n",
        "plt.tight_layout()\n",
        "plt.show()\n",
        "\n",
        "# ----- Label Encoding -----\n",
        "label_encoders = {}\n",
        "for column in df.select_dtypes(include=['object']).columns:\n",
        "    le = LabelEncoder()\n",
        "    df[column] = le.fit_transform(df[column])\n",
        "    label_encoders[column] = le\n",
        "\n",
        "# Define features and target\n",
        "X = df.drop(\"Tumor_Type\", axis=1)\n",
        "y = df[\"Tumor_Type\"]\n",
        "\n",
        "# Train/Test Split\n",
        "X_train, X_test, y_train, y_test = train_test_split(X, y, test_size=0.2, random_state=42)\n",
        "\n",
        "# Train Classifier\n",
        "clf = RandomForestClassifier(random_state=42)\n",
        "clf.fit(X_train, y_train)\n",
        "\n",
        "# Predictions\n",
        "y_pred = clf.predict(X_test)\n",
        "\n",
        "# Evaluation\n",
        "print(f\"Accuracy: {accuracy_score(y_test, y_pred):.2f}\")\n",
        "print(\"Confusion Matrix:\\n\", confusion_matrix(y_test, y_pred))\n",
        "print(\"Classification Report:\\n\", classification_report(y_test, y_pred))\n",
        "\n",
        "# Save model\n",
        "with open(\"random_forest_classifier.pkl\", \"wb\") as f:\n",
        "    pickle.dump(clf, f)\n",
        "\n",
        "print(\"✅ Model saved as 'random_forest_classifier.pkl'\")\n"
      ],
      "metadata": {
        "id": "gcjI5dSbXnDV"
      },
      "execution_count": null,
      "outputs": []
    }
  ]
}